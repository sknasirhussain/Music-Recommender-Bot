{
 "cells": [
  {
   "cell_type": "code",
   "execution_count": 2,
   "id": "9c90cd05",
   "metadata": {},
   "outputs": [],
   "source": [
    "import pandas as pd\n",
    "from sklearn.tree import DecisionTreeClassifier\n",
    "from sklearn import tree\n",
    "\n",
    "md = pd.read_csv('music.csv')\n",
    "x = md.drop(columns=[\"genre\"])\n",
    "y = md['genre']\n",
    "\n",
    "model = DecisionTreeClassifier()\n",
    "model.fit(x, y)\n",
    "\n",
    "tree.export_graphviz(model, out_file = 'music-recommnder.dot', \n",
    "                     feature_names=['age', 'gender'], \n",
    "                     class_names=sorted(y.unique()),\n",
    "                     label = 'all',\n",
    "                     rounded = True,\n",
    "                     filled = True)"
   ]
  },
  {
   "cell_type": "code",
   "execution_count": null,
   "id": "66832406",
   "metadata": {},
   "outputs": [],
   "source": []
  }
 ],
 "metadata": {
  "kernelspec": {
   "display_name": "Python 3 (ipykernel)",
   "language": "python",
   "name": "python3"
  },
  "language_info": {
   "codemirror_mode": {
    "name": "ipython",
    "version": 3
   },
   "file_extension": ".py",
   "mimetype": "text/x-python",
   "name": "python",
   "nbconvert_exporter": "python",
   "pygments_lexer": "ipython3",
   "version": "3.11.2"
  }
 },
 "nbformat": 4,
 "nbformat_minor": 5
}
